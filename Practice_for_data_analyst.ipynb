{
  "nbformat": 4,
  "nbformat_minor": 0,
  "metadata": {
    "colab": {
      "provenance": [],
      "authorship_tag": "ABX9TyONQj25KqOuLz1CMCfziyPC",
      "include_colab_link": true
    },
    "kernelspec": {
      "name": "python3",
      "display_name": "Python 3"
    },
    "language_info": {
      "name": "python"
    }
  },
  "cells": [
    {
      "cell_type": "markdown",
      "metadata": {
        "id": "view-in-github",
        "colab_type": "text"
      },
      "source": [
        "<a href=\"https://colab.research.google.com/github/shubhsk321go/Data-science/blob/main/Practice_for_data_analyst.ipynb\" target=\"_parent\"><img src=\"https://colab.research.google.com/assets/colab-badge.svg\" alt=\"Open In Colab\"/></a>"
      ]
    },
    {
      "cell_type": "markdown",
      "source": [
        "We are starting the numpy here for practice\n"
      ],
      "metadata": {
        "id": "cT7uCaqZjI8t"
      }
    },
    {
      "cell_type": "code",
      "source": [
        "import numpy as np\n",
        "\n",
        "Arravali = np.array(np.random.randint(10,45,(8,2)))\n",
        "\n",
        "print(f\"The defined array is \\n{Arravali}\")\n",
        "print(f\"\\n The shape of the array is {Arravali.shape}\")"
      ],
      "metadata": {
        "colab": {
          "base_uri": "https://localhost:8080/"
        },
        "id": "XLHQIPnOjPTn",
        "outputId": "ecd31bcb-c69a-42a0-b0c3-b411c0aad44d"
      },
      "execution_count": 2,
      "outputs": [
        {
          "output_type": "stream",
          "name": "stdout",
          "text": [
            "The defined array is \n",
            "[[16 11]\n",
            " [28 16]\n",
            " [38 36]\n",
            " [30 22]\n",
            " [38 44]\n",
            " [16 27]\n",
            " [18 14]\n",
            " [35 37]]\n",
            "\n",
            " The shape of the array is (8, 2)\n"
          ]
        }
      ]
    },
    {
      "cell_type": "code",
      "source": [
        "nilgiri = np.transpose(Arravali)\n",
        "print(nilgiri)\n",
        "print(nilgiri.shape)"
      ],
      "metadata": {
        "colab": {
          "base_uri": "https://localhost:8080/"
        },
        "id": "WFXfn9Z2kP72",
        "outputId": "1d67e707-91ec-4574-b3e8-613837d023c0"
      },
      "execution_count": null,
      "outputs": [
        {
          "output_type": "stream",
          "name": "stdout",
          "text": [
            "[[35 24 16 43 43 30 38 22]\n",
            " [22 13 18 13 20 10 10 37]]\n",
            "(2, 8)\n"
          ]
        }
      ]
    },
    {
      "cell_type": "code",
      "source": [
        "Random_Array= np.array(np.random.randint(10,50,(3,4,5)))\n",
        "print(Random_Array)\n",
        "print(Random_Array.shape)\n",
        "print(Random_Array.ndim)"
      ],
      "metadata": {
        "colab": {
          "base_uri": "https://localhost:8080/"
        },
        "id": "-ItXpYXgKDBc",
        "outputId": "b9c30534-c221-40c7-896b-c1639d3416e9"
      },
      "execution_count": null,
      "outputs": [
        {
          "output_type": "stream",
          "name": "stdout",
          "text": [
            "[[[12 24 20 32 15]\n",
            "  [25 26 17 43 31]\n",
            "  [36 20 36 36 37]\n",
            "  [24 13 36 26 10]]\n",
            "\n",
            " [[47 34 19 14 14]\n",
            "  [27 18 18 42 14]\n",
            "  [27 37 24 29 22]\n",
            "  [39 36 39 47 13]]\n",
            "\n",
            " [[34 42 19 28 47]\n",
            "  [12 24 13 34 11]\n",
            "  [43 39 44 28 23]\n",
            "  [29 24 34 39 13]]]\n",
            "(3, 4, 5)\n",
            "3\n"
          ]
        }
      ]
    },
    {
      "cell_type": "code",
      "source": [
        "transposed= np.transpose(Random_Array)\n",
        "print(transposed)\n",
        "print(transposed.shape)\n",
        "print(transposed.ndim)"
      ],
      "metadata": {
        "colab": {
          "base_uri": "https://localhost:8080/"
        },
        "id": "q46tae3ERmwp",
        "outputId": "2290e153-0b59-439a-aa96-612fdb296753"
      },
      "execution_count": null,
      "outputs": [
        {
          "output_type": "stream",
          "name": "stdout",
          "text": [
            "[[[12 47 34]\n",
            "  [25 27 12]\n",
            "  [36 27 43]\n",
            "  [24 39 29]]\n",
            "\n",
            " [[24 34 42]\n",
            "  [26 18 24]\n",
            "  [20 37 39]\n",
            "  [13 36 24]]\n",
            "\n",
            " [[20 19 19]\n",
            "  [17 18 13]\n",
            "  [36 24 44]\n",
            "  [36 39 34]]\n",
            "\n",
            " [[32 14 28]\n",
            "  [43 42 34]\n",
            "  [36 29 28]\n",
            "  [26 47 39]]\n",
            "\n",
            " [[15 14 47]\n",
            "  [31 14 11]\n",
            "  [37 22 23]\n",
            "  [10 13 13]]]\n",
            "(5, 4, 3)\n",
            "3\n"
          ]
        }
      ]
    },
    {
      "cell_type": "code",
      "source": [
        "#Reshape\n",
        "\n",
        "Reshape= np.reshape(Random_Array,(5,12))\n",
        "print(Reshape)\n",
        "print(Reshape.shape)\n",
        "print(Reshape.ndim)"
      ],
      "metadata": {
        "colab": {
          "base_uri": "https://localhost:8080/"
        },
        "id": "MJtQeHDSYn1b",
        "outputId": "2894bf59-6a59-4473-d165-dda7c1e00d1b"
      },
      "execution_count": null,
      "outputs": [
        {
          "output_type": "stream",
          "name": "stdout",
          "text": [
            "[[12 24 20 32 15 25 26 17 43 31 36 20]\n",
            " [36 36 37 24 13 36 26 10 47 34 19 14]\n",
            " [14 27 18 18 42 14 27 37 24 29 22 39]\n",
            " [36 39 47 13 34 42 19 28 47 12 24 13]\n",
            " [34 11 43 39 44 28 23 29 24 34 39 13]]\n",
            "(5, 12)\n",
            "2\n"
          ]
        }
      ]
    },
    {
      "cell_type": "code",
      "source": [
        "#resize\n",
        "\n",
        "Resized= np.resize(Random_Array,(4,62))\n",
        "print(Resized)\n",
        "print(Resized.shape)\n",
        "print(Resized.ndim)\n"
      ],
      "metadata": {
        "colab": {
          "base_uri": "https://localhost:8080/"
        },
        "id": "ESOFYMyFZm2-",
        "outputId": "09260c27-b8a5-45a4-9525-8c8b3c1213bd"
      },
      "execution_count": null,
      "outputs": [
        {
          "output_type": "stream",
          "name": "stdout",
          "text": [
            "[[12 24 20 32 15 25 26 17 43 31 36 20 36 36 37 24 13 36 26 10 47 34 19 14\n",
            "  14 27 18 18 42 14 27 37 24 29 22 39 36 39 47 13 34 42 19 28 47 12 24 13\n",
            "  34 11 43 39 44 28 23 29 24 34 39 13 12 24]\n",
            " [20 32 15 25 26 17 43 31 36 20 36 36 37 24 13 36 26 10 47 34 19 14 14 27\n",
            "  18 18 42 14 27 37 24 29 22 39 36 39 47 13 34 42 19 28 47 12 24 13 34 11\n",
            "  43 39 44 28 23 29 24 34 39 13 12 24 20 32]\n",
            " [15 25 26 17 43 31 36 20 36 36 37 24 13 36 26 10 47 34 19 14 14 27 18 18\n",
            "  42 14 27 37 24 29 22 39 36 39 47 13 34 42 19 28 47 12 24 13 34 11 43 39\n",
            "  44 28 23 29 24 34 39 13 12 24 20 32 15 25]\n",
            " [26 17 43 31 36 20 36 36 37 24 13 36 26 10 47 34 19 14 14 27 18 18 42 14\n",
            "  27 37 24 29 22 39 36 39 47 13 34 42 19 28 47 12 24 13 34 11 43 39 44 28\n",
            "  23 29 24 34 39 13 12 24 20 32 15 25 26 17]]\n",
            "(4, 62)\n",
            "2\n"
          ]
        }
      ]
    },
    {
      "cell_type": "code",
      "source": [
        "#flattened\n",
        "\n",
        "Flattened= np.ravel(Random_Array)\n",
        "print(Flattened)\n",
        "print(Flattened.shape)\n",
        "print(Flattened.ndim)"
      ],
      "metadata": {
        "colab": {
          "base_uri": "https://localhost:8080/"
        },
        "id": "Ar8G5vpOcp2-",
        "outputId": "3b546ade-a042-4dc9-bcb0-fe0dcd52ede8"
      },
      "execution_count": null,
      "outputs": [
        {
          "output_type": "stream",
          "name": "stdout",
          "text": [
            "[12 24 20 32 15 25 26 17 43 31 36 20 36 36 37 24 13 36 26 10 47 34 19 14\n",
            " 14 27 18 18 42 14 27 37 24 29 22 39 36 39 47 13 34 42 19 28 47 12 24 13\n",
            " 34 11 43 39 44 28 23 29 24 34 39 13]\n",
            "(60,)\n",
            "1\n"
          ]
        }
      ]
    },
    {
      "cell_type": "code",
      "source": [],
      "metadata": {
        "id": "gVGA9cRXIzj4"
      },
      "execution_count": null,
      "outputs": []
    },
    {
      "cell_type": "code",
      "source": [
        "# flatten\n",
        "\n",
        "flattened = Random_Array.flatten()\n",
        "print(flattened)\n",
        "print(flattened.shape)\n",
        "print(flattened.ndim)\n",
        "#"
      ],
      "metadata": {
        "colab": {
          "base_uri": "https://localhost:8080/"
        },
        "id": "yGzD3zVddMMY",
        "outputId": "f847f4c8-5571-4ccc-d7eb-1990b59d828e"
      },
      "execution_count": null,
      "outputs": [
        {
          "output_type": "stream",
          "name": "stdout",
          "text": [
            "[12 24 20 32 15 25 26 17 43 31 36 20 36 36 37 24 13 36 26 10 47 34 19 14\n",
            " 14 27 18 18 42 14 27 37 24 29 22 39 36 39 47 13 34 42 19 28 47 12 24 13\n",
            " 34 11 43 39 44 28 23 29 24 34 39 13]\n",
            "(60,)\n",
            "1\n"
          ]
        }
      ]
    },
    {
      "cell_type": "code",
      "source": [
        "#inserting in Numpy\n",
        "\n",
        "a= np.random.randint(10,50,(3,4,5))\n",
        "print(a)\n",
        "print(a.shape)"
      ],
      "metadata": {
        "colab": {
          "base_uri": "https://localhost:8080/"
        },
        "id": "0WfcIEG_oyw2",
        "outputId": "3429bf84-7c1c-4904-bc1f-f2316a083841"
      },
      "execution_count": null,
      "outputs": [
        {
          "output_type": "stream",
          "name": "stdout",
          "text": [
            "[[[48 30 36 27 46]\n",
            "  [43 28 42 38 18]\n",
            "  [15 37 24 23 40]\n",
            "  [33 22 22 11 47]]\n",
            "\n",
            " [[19 22 31 10 34]\n",
            "  [40 41 41 48 33]\n",
            "  [24 20 47 36 21]\n",
            "  [31 24 41 13 16]]\n",
            "\n",
            " [[35 29 15 27 46]\n",
            "  [31 17 35 48 28]\n",
            "  [34 19 46 43 23]\n",
            "  [14 40 46 49 45]]]\n",
            "(3, 4, 5)\n"
          ]
        }
      ]
    },
    {
      "cell_type": "code",
      "source": [
        "# Insert command\n",
        "\n",
        "np.insert(a,3,100,axis=2)"
      ],
      "metadata": {
        "colab": {
          "base_uri": "https://localhost:8080/"
        },
        "id": "eIWM9vVqpX-s",
        "outputId": "dc286c95-7a07-4ea4-92c8-e3d9b1f5a735"
      },
      "execution_count": null,
      "outputs": [
        {
          "output_type": "execute_result",
          "data": {
            "text/plain": [
              "array([[[ 48,  30,  36, 100,  27,  46],\n",
              "        [ 43,  28,  42, 100,  38,  18],\n",
              "        [ 15,  37,  24, 100,  23,  40],\n",
              "        [ 33,  22,  22, 100,  11,  47]],\n",
              "\n",
              "       [[ 19,  22,  31, 100,  10,  34],\n",
              "        [ 40,  41,  41, 100,  48,  33],\n",
              "        [ 24,  20,  47, 100,  36,  21],\n",
              "        [ 31,  24,  41, 100,  13,  16]],\n",
              "\n",
              "       [[ 35,  29,  15, 100,  27,  46],\n",
              "        [ 31,  17,  35, 100,  48,  28],\n",
              "        [ 34,  19,  46, 100,  43,  23],\n",
              "        [ 14,  40,  46, 100,  49,  45]]])"
            ]
          },
          "metadata": {},
          "execution_count": 13
        }
      ]
    },
    {
      "cell_type": "code",
      "source": [
        "# Insert command\n",
        "\n",
        "np.insert(a,3,100,axis=0)"
      ],
      "metadata": {
        "colab": {
          "base_uri": "https://localhost:8080/"
        },
        "outputId": "b59d6f8d-9ae6-4dbb-a8ab-edd836037628",
        "id": "Ta2jGjDzqjbH"
      },
      "execution_count": null,
      "outputs": [
        {
          "output_type": "execute_result",
          "data": {
            "text/plain": [
              "array([[[ 48,  30,  36,  27,  46],\n",
              "        [ 43,  28,  42,  38,  18],\n",
              "        [ 15,  37,  24,  23,  40],\n",
              "        [ 33,  22,  22,  11,  47]],\n",
              "\n",
              "       [[ 19,  22,  31,  10,  34],\n",
              "        [ 40,  41,  41,  48,  33],\n",
              "        [ 24,  20,  47,  36,  21],\n",
              "        [ 31,  24,  41,  13,  16]],\n",
              "\n",
              "       [[ 35,  29,  15,  27,  46],\n",
              "        [ 31,  17,  35,  48,  28],\n",
              "        [ 34,  19,  46,  43,  23],\n",
              "        [ 14,  40,  46,  49,  45]],\n",
              "\n",
              "       [[100, 100, 100, 100, 100],\n",
              "        [100, 100, 100, 100, 100],\n",
              "        [100, 100, 100, 100, 100],\n",
              "        [100, 100, 100, 100, 100]]])"
            ]
          },
          "metadata": {},
          "execution_count": 14
        }
      ]
    },
    {
      "cell_type": "code",
      "source": [
        "# Insert command\n",
        "\n",
        "np.insert(a,3,100,axis=1)"
      ],
      "metadata": {
        "colab": {
          "base_uri": "https://localhost:8080/"
        },
        "outputId": "0367994f-63e0-4631-efc3-c80fa119ac10",
        "id": "SbRjZkMTqfjR"
      },
      "execution_count": null,
      "outputs": [
        {
          "output_type": "execute_result",
          "data": {
            "text/plain": [
              "array([[[ 48,  30,  36,  27,  46],\n",
              "        [ 43,  28,  42,  38,  18],\n",
              "        [ 15,  37,  24,  23,  40],\n",
              "        [100, 100, 100, 100, 100],\n",
              "        [ 33,  22,  22,  11,  47]],\n",
              "\n",
              "       [[ 19,  22,  31,  10,  34],\n",
              "        [ 40,  41,  41,  48,  33],\n",
              "        [ 24,  20,  47,  36,  21],\n",
              "        [100, 100, 100, 100, 100],\n",
              "        [ 31,  24,  41,  13,  16]],\n",
              "\n",
              "       [[ 35,  29,  15,  27,  46],\n",
              "        [ 31,  17,  35,  48,  28],\n",
              "        [ 34,  19,  46,  43,  23],\n",
              "        [100, 100, 100, 100, 100],\n",
              "        [ 14,  40,  46,  49,  45]]])"
            ]
          },
          "metadata": {},
          "execution_count": 15
        }
      ]
    },
    {
      "cell_type": "code",
      "source": [
        "# append command\n",
        "\n",
        "a= np.random.randint(10,80,(3,4,5))\n",
        "print(a)\n",
        "print(a.shape)"
      ],
      "metadata": {
        "colab": {
          "base_uri": "https://localhost:8080/"
        },
        "id": "LoTmqAbfrpTW",
        "outputId": "05b512a7-efa2-4f81-a3ff-c1d54e391a51"
      },
      "execution_count": null,
      "outputs": [
        {
          "output_type": "stream",
          "name": "stdout",
          "text": [
            "[[[49 71 41 39 32]\n",
            "  [70 70 62 66 12]\n",
            "  [54 66 50 39 23]\n",
            "  [70 58 22 35 37]]\n",
            "\n",
            " [[78 32 72 45 47]\n",
            "  [57 36 39 14 79]\n",
            "  [44 21 42 70 42]\n",
            "  [38 16 59 78 21]]\n",
            "\n",
            " [[60 24 70 19 14]\n",
            "  [76 40 54 56 78]\n",
            "  [31 22 63 48 75]\n",
            "  [31 70 21 44 50]]]\n",
            "(3, 4, 5)\n"
          ]
        }
      ]
    },
    {
      "cell_type": "code",
      "source": [
        "# np.append(a,100)"
      ],
      "metadata": {
        "id": "KN26UgP-xQQm"
      },
      "execution_count": null,
      "outputs": []
    },
    {
      "cell_type": "code",
      "source": [
        "b= np.random.randint(10,80,(3,4,5))\n",
        "print(b)\n",
        "print(b.shape)"
      ],
      "metadata": {
        "colab": {
          "base_uri": "https://localhost:8080/"
        },
        "id": "zhOeKC_ixYu1",
        "outputId": "788107c0-b974-49c8-bdb5-c34056af19d9"
      },
      "execution_count": null,
      "outputs": [
        {
          "output_type": "stream",
          "name": "stdout",
          "text": [
            "[[[63 13 76 25 40]\n",
            "  [79 44 31 77 43]\n",
            "  [23 28 49 15 10]\n",
            "  [45 43 54 21 69]]\n",
            "\n",
            " [[76 11 29 18 31]\n",
            "  [17 72 54 37 26]\n",
            "  [33 24 18 42 50]\n",
            "  [66 18 26 12 71]]\n",
            "\n",
            " [[45 78 30 65 21]\n",
            "  [35 79 28 77 73]\n",
            "  [79 63 16 74 34]\n",
            "  [16 37 67 34 26]]]\n",
            "(3, 4, 5)\n"
          ]
        }
      ]
    },
    {
      "cell_type": "code",
      "source": [
        "np.append(a,b,axis = 1)\n",
        "#"
      ],
      "metadata": {
        "colab": {
          "base_uri": "https://localhost:8080/"
        },
        "id": "w0aixqK0xjii",
        "outputId": "ef30fffc-17fc-48b3-c5d1-2b628d378a15"
      },
      "execution_count": null,
      "outputs": [
        {
          "output_type": "execute_result",
          "data": {
            "text/plain": [
              "array([[[49, 71, 41, 39, 32],\n",
              "        [70, 70, 62, 66, 12],\n",
              "        [54, 66, 50, 39, 23],\n",
              "        [70, 58, 22, 35, 37],\n",
              "        [63, 13, 76, 25, 40],\n",
              "        [79, 44, 31, 77, 43],\n",
              "        [23, 28, 49, 15, 10],\n",
              "        [45, 43, 54, 21, 69]],\n",
              "\n",
              "       [[78, 32, 72, 45, 47],\n",
              "        [57, 36, 39, 14, 79],\n",
              "        [44, 21, 42, 70, 42],\n",
              "        [38, 16, 59, 78, 21],\n",
              "        [76, 11, 29, 18, 31],\n",
              "        [17, 72, 54, 37, 26],\n",
              "        [33, 24, 18, 42, 50],\n",
              "        [66, 18, 26, 12, 71]],\n",
              "\n",
              "       [[60, 24, 70, 19, 14],\n",
              "        [76, 40, 54, 56, 78],\n",
              "        [31, 22, 63, 48, 75],\n",
              "        [31, 70, 21, 44, 50],\n",
              "        [45, 78, 30, 65, 21],\n",
              "        [35, 79, 28, 77, 73],\n",
              "        [79, 63, 16, 74, 34],\n",
              "        [16, 37, 67, 34, 26]]])"
            ]
          },
          "metadata": {},
          "execution_count": 19
        }
      ]
    },
    {
      "cell_type": "code",
      "source": [
        " # np.delete statement in NumPy\n",
        "np.delete(a,3,axis=1)\n"
      ],
      "metadata": {
        "colab": {
          "base_uri": "https://localhost:8080/"
        },
        "id": "sNp-r52iyUzG",
        "outputId": "c2f3a7a1-4bee-4e34-aa7d-34515c6ab4a7"
      },
      "execution_count": null,
      "outputs": [
        {
          "output_type": "execute_result",
          "data": {
            "text/plain": [
              "array([[[49, 71, 41, 39, 32],\n",
              "        [70, 70, 62, 66, 12],\n",
              "        [54, 66, 50, 39, 23]],\n",
              "\n",
              "       [[78, 32, 72, 45, 47],\n",
              "        [57, 36, 39, 14, 79],\n",
              "        [44, 21, 42, 70, 42]],\n",
              "\n",
              "       [[60, 24, 70, 19, 14],\n",
              "        [76, 40, 54, 56, 78],\n",
              "        [31, 22, 63, 48, 75]]])"
            ]
          },
          "metadata": {},
          "execution_count": 20
        }
      ]
    },
    {
      "cell_type": "code",
      "source": [
        "#np.unique statement in numpy\n"
      ],
      "metadata": {
        "id": "7xw1-qXZ1kbu"
      },
      "execution_count": null,
      "outputs": []
    },
    {
      "cell_type": "code",
      "source": [
        "# zeros\n",
        "\n",
        "np.zeros((3,4,5))"
      ],
      "metadata": {
        "colab": {
          "base_uri": "https://localhost:8080/"
        },
        "id": "-nvyOiWII2b_",
        "outputId": "521c8e8e-1abf-443e-f35a-ae4b0a9317e9"
      },
      "execution_count": null,
      "outputs": [
        {
          "output_type": "execute_result",
          "data": {
            "text/plain": [
              "array([[[0., 0., 0., 0., 0.],\n",
              "        [0., 0., 0., 0., 0.],\n",
              "        [0., 0., 0., 0., 0.],\n",
              "        [0., 0., 0., 0., 0.]],\n",
              "\n",
              "       [[0., 0., 0., 0., 0.],\n",
              "        [0., 0., 0., 0., 0.],\n",
              "        [0., 0., 0., 0., 0.],\n",
              "        [0., 0., 0., 0., 0.]],\n",
              "\n",
              "       [[0., 0., 0., 0., 0.],\n",
              "        [0., 0., 0., 0., 0.],\n",
              "        [0., 0., 0., 0., 0.],\n",
              "        [0., 0., 0., 0., 0.]]])"
            ]
          },
          "metadata": {},
          "execution_count": 22
        }
      ]
    },
    {
      "cell_type": "code",
      "source": [
        "# ones\n",
        "\n",
        "np.ones([3,2,4])"
      ],
      "metadata": {
        "colab": {
          "base_uri": "https://localhost:8080/"
        },
        "id": "F2PfazA9Jgvo",
        "outputId": "e5cbc638-b3d2-4d1e-f69c-d40f77dda4ac"
      },
      "execution_count": null,
      "outputs": [
        {
          "output_type": "execute_result",
          "data": {
            "text/plain": [
              "array([[[1., 1., 1., 1.],\n",
              "        [1., 1., 1., 1.]],\n",
              "\n",
              "       [[1., 1., 1., 1.],\n",
              "        [1., 1., 1., 1.]],\n",
              "\n",
              "       [[1., 1., 1., 1.],\n",
              "        [1., 1., 1., 1.]]])"
            ]
          },
          "metadata": {},
          "execution_count": 24
        }
      ]
    },
    {
      "cell_type": "code",
      "source": [
        "# full\n",
        "\n",
        "np.full((3,4,5),100)"
      ],
      "metadata": {
        "colab": {
          "base_uri": "https://localhost:8080/"
        },
        "id": "PzUGNWkIJwPo",
        "outputId": "f8d72a8e-74f6-4320-b0e6-89db6cf02bd8"
      },
      "execution_count": null,
      "outputs": [
        {
          "output_type": "execute_result",
          "data": {
            "text/plain": [
              "array([[[100, 100, 100, 100, 100],\n",
              "        [100, 100, 100, 100, 100],\n",
              "        [100, 100, 100, 100, 100],\n",
              "        [100, 100, 100, 100, 100]],\n",
              "\n",
              "       [[100, 100, 100, 100, 100],\n",
              "        [100, 100, 100, 100, 100],\n",
              "        [100, 100, 100, 100, 100],\n",
              "        [100, 100, 100, 100, 100]],\n",
              "\n",
              "       [[100, 100, 100, 100, 100],\n",
              "        [100, 100, 100, 100, 100],\n",
              "        [100, 100, 100, 100, 100],\n",
              "        [100, 100, 100, 100, 100]]])"
            ]
          },
          "metadata": {},
          "execution_count": 25
        }
      ]
    },
    {
      "cell_type": "code",
      "source": [
        "# use to make the sequences of series\n",
        "# a-range\n",
        "# arange\n",
        "np.arange(2,30,3)"
      ],
      "metadata": {
        "colab": {
          "base_uri": "https://localhost:8080/"
        },
        "id": "iXKtLjALJ_Ce",
        "outputId": "d531591e-c645-4915-e493-49787b1a10cb"
      },
      "execution_count": null,
      "outputs": [
        {
          "output_type": "execute_result",
          "data": {
            "text/plain": [
              "array([ 2,  5,  8, 11, 14, 17, 20, 23, 26, 29])"
            ]
          },
          "metadata": {},
          "execution_count": 26
        }
      ]
    },
    {
      "cell_type": "code",
      "source": [
        "# creating identity matrices\n",
        "\n",
        "identity_matrix = np.eye(5,5)\n",
        "print(identity_matrix)"
      ],
      "metadata": {
        "colab": {
          "base_uri": "https://localhost:8080/"
        },
        "id": "r2Pgi-JISuts",
        "outputId": "3db95e4e-85aa-4896-eba8-a94e38fcab0a"
      },
      "execution_count": 3,
      "outputs": [
        {
          "output_type": "stream",
          "name": "stdout",
          "text": [
            "[[1. 0. 0. 0. 0.]\n",
            " [0. 1. 0. 0. 0.]\n",
            " [0. 0. 1. 0. 0.]\n",
            " [0. 0. 0. 1. 0.]\n",
            " [0. 0. 0. 0. 1.]]\n"
          ]
        }
      ]
    }
  ]
}