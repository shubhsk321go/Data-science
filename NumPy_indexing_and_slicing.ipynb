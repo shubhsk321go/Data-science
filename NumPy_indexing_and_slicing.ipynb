{
  "nbformat": 4,
  "nbformat_minor": 0,
  "metadata": {
    "colab": {
      "provenance": [],
      "authorship_tag": "ABX9TyN6Ts1xE7Qn/dUMDwJYOYH/",
      "include_colab_link": true
    },
    "kernelspec": {
      "name": "python3",
      "display_name": "Python 3"
    },
    "language_info": {
      "name": "python"
    }
  },
  "cells": [
    {
      "cell_type": "markdown",
      "metadata": {
        "id": "view-in-github",
        "colab_type": "text"
      },
      "source": [
        "<a href=\"https://colab.research.google.com/github/shubhsk321go/Data-science/blob/main/NumPy_indexing_and_slicing.ipynb\" target=\"_parent\"><img src=\"https://colab.research.google.com/assets/colab-badge.svg\" alt=\"Open In Colab\"/></a>"
      ]
    },
    {
      "cell_type": "code",
      "execution_count": 1,
      "metadata": {
        "id": "BvnNzKZhaw9b"
      },
      "outputs": [],
      "source": [
        "import numpy as np"
      ]
    },
    {
      "cell_type": "code",
      "source": [
        "# Q -->  WHAT IS INDEXING\n",
        "\n",
        "# Ans --> Indexing refers to selecting the specific element or part of the array in numpy\n",
        "# numpy uses the 0 based indexing in python\n",
        "# numpy uses the negative indexing in numpy\n",
        "# if the index will be  not found the index error will be raised and pop up\n",
        "\n",
        "arr= ([10,20,30,40,50,60])\n",
        "\n",
        "print(arr)\n",
        "print(arr[0])\n",
        "\n",
        "print(arr[1])\n",
        "print(arr[2])\n",
        "print(arr[3])\n",
        "print(arr[-1])\n",
        "print(arr[-2])"
      ],
      "metadata": {
        "colab": {
          "base_uri": "https://localhost:8080/"
        },
        "id": "If_2Xp8HbIJG",
        "outputId": "98b62c07-113e-4ac4-839c-b8e7cfe28f34"
      },
      "execution_count": 2,
      "outputs": [
        {
          "output_type": "stream",
          "name": "stdout",
          "text": [
            "[10, 20, 30, 40, 50, 60]\n",
            "10\n",
            "20\n",
            "30\n",
            "40\n",
            "60\n",
            "50\n"
          ]
        }
      ]
    },
    {
      "cell_type": "code",
      "source": [
        "# slicing of array\n",
        "\n",
        "# it includes the getting multiple elements from the array\n",
        "# syntax ---> array[start:stop:step]\n",
        "# start--> it will be the starting index in the array from which the slicing will be performed  It is also included.\n",
        "# end --> it will be the ending index in the array to which the array will be ended. It will be excluded.\n",
        "# step -->\n",
        "\n",
        "\n",
        "arr = np.array([10,12,32,25,20,19,22,35])\n",
        "print(arr)\n",
        "print(arr[0:]) #strating from the first elemant and end is not defined so it will be going till last element\n",
        "print(arr[:4]) #starting is not defined so it will be started from the begining and will go to the index n-1 which is 4-1 =index number 3 (25)\n",
        "print(arr[::2]) #start and end is not specified in the slicing and the step of 2 is present so it will start from the begining and will stop at end but will extract one element and leave one and so on\n"
      ],
      "metadata": {
        "colab": {
          "base_uri": "https://localhost:8080/"
        },
        "id": "yRm94y8RvAgc",
        "outputId": "f540946f-6e63-4612-a7b2-83415cb4747c"
      },
      "execution_count": 3,
      "outputs": [
        {
          "output_type": "stream",
          "name": "stdout",
          "text": [
            "[10 12 32 25 20 19 22 35]\n",
            "[10 12 32 25 20 19 22 35]\n",
            "[10 12 32 25]\n",
            "[10 32 20 22]\n"
          ]
        }
      ]
    },
    {
      "cell_type": "code",
      "source": [
        "# reverse of the array\n",
        "\n",
        "print(arr[::-1]) #we will use the negative number as the step and the result will show us the reverse array"
      ],
      "metadata": {
        "colab": {
          "base_uri": "https://localhost:8080/"
        },
        "id": "Hn-2UKdV_YbS",
        "outputId": "2280c1ee-a6a6-486e-d6d9-bbc5cb52472a"
      },
      "execution_count": 4,
      "outputs": [
        {
          "output_type": "stream",
          "name": "stdout",
          "text": [
            "[35 22 19 20 25 32 12 10]\n"
          ]
        }
      ]
    },
    {
      "cell_type": "code",
      "source": [
        "# fancy slicing in numpy\n",
        "\n",
        "print(arr)\n",
        "\n",
        "print(arr[[0,2,4]])\n",
        "\n"
      ],
      "metadata": {
        "colab": {
          "base_uri": "https://localhost:8080/"
        },
        "id": "TwuVxE3KCCP2",
        "outputId": "8d5b5f54-fe72-48ef-828b-78078fe92c01"
      },
      "execution_count": 5,
      "outputs": [
        {
          "output_type": "stream",
          "name": "stdout",
          "text": [
            "[10 12 32 25 20 19 22 35]\n",
            "[10 32 20]\n"
          ]
        }
      ]
    },
    {
      "cell_type": "code",
      "source": [
        "# Filtering\n",
        "# booloean masking\n",
        "# conditions --> 1. TRUE   2. FALSE\n",
        "\n",
        "\n",
        "print(arr[arr>20])"
      ],
      "metadata": {
        "colab": {
          "base_uri": "https://localhost:8080/"
        },
        "id": "8KFbHf7FNXnO",
        "outputId": "ffe835ab-999d-45bf-d91e-ce71dfd0bdab"
      },
      "execution_count": 6,
      "outputs": [
        {
          "output_type": "stream",
          "name": "stdout",
          "text": [
            "[32 25 22 35]\n"
          ]
        }
      ]
    },
    {
      "cell_type": "code",
      "source": [
        "# Reshaping and manupulating of array\n",
        "\n",
        "# Reshaping means the changing the dimensions of the array\n",
        "# it changes the shape of the array however the size (number of elements) in the array will remain same.\n",
        "print(arr) #1d array\n",
        "# .reshape(shape of array)\n",
        "print(arr.reshape(2,4)) #2d array\n",
        "print(arr.reshape(4,2)) #2d array of different size\n",
        "print(arr.reshape(1,8)) #2d array of 1 row\n",
        "print(arr.reshape(2,2,2)) #3d array\n",
        "arr2= np.array(arr.reshape(2,2,2))\n",
        "print(arr2)\n"
      ],
      "metadata": {
        "id": "s-itawwoOVU2",
        "colab": {
          "base_uri": "https://localhost:8080/"
        },
        "outputId": "976b4a51-a7ba-4c55-f165-0c4936d00683"
      },
      "execution_count": 7,
      "outputs": [
        {
          "output_type": "stream",
          "name": "stdout",
          "text": [
            "[10 12 32 25 20 19 22 35]\n",
            "[[10 12 32 25]\n",
            " [20 19 22 35]]\n",
            "[[10 12]\n",
            " [32 25]\n",
            " [20 19]\n",
            " [22 35]]\n",
            "[[10 12 32 25 20 19 22 35]]\n",
            "[[[10 12]\n",
            "  [32 25]]\n",
            "\n",
            " [[20 19]\n",
            "  [22 35]]]\n",
            "[[[10 12]\n",
            "  [32 25]]\n",
            "\n",
            " [[20 19]\n",
            "  [22 35]]]\n"
          ]
        }
      ]
    },
    {
      "cell_type": "code",
      "source": [
        "# changing the multidimentional array into 1d array\n",
        "\n",
        "# there are 2 methods in this\n",
        "# .ravel()\n",
        "# .flatten()\n",
        "# changing the multidimentional array into 1d array\n",
        "\n",
        "# there are 2 methods in this\n",
        "# .ravel() --> view original will be changed and will be affected\n",
        "# .flatten() --> copy the array and so that the original array does not affected\n",
        "\n",
        "print(arr2.ravel())\n",
        "print(arr2.flatten())"
      ],
      "metadata": {
        "colab": {
          "base_uri": "https://localhost:8080/"
        },
        "id": "242AwQPuUOQp",
        "outputId": "a7b7fbca-883b-4b8d-9d3d-92aacbadeebe"
      },
      "execution_count": 8,
      "outputs": [
        {
          "output_type": "stream",
          "name": "stdout",
          "text": [
            "[10 12 32 25 20 19 22 35]\n",
            "[10 12 32 25 20 19 22 35]\n"
          ]
        }
      ]
    },
    {
      "cell_type": "code",
      "source": [],
      "metadata": {
        "id": "4A7iHrDPlH0u"
      },
      "execution_count": 8,
      "outputs": []
    }
  ]
}